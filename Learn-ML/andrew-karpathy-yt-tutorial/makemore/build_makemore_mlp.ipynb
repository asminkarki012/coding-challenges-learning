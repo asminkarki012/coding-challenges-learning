{
 "cells": [
  {
   "cell_type": "markdown",
   "id": "362be8e8-5571-4cd2-9e51-c04c30029754",
   "metadata": {},
   "source": [
    "# [Based on paper A Neural Probabilistic Language Model](https://www.jmlr.org/papers/volume3/bengio03a/bengio03a.pdf)\n",
    "- This paper popularised the vector embedding conecpt solving the curse of dimensionality (due to one hot encoding)\n",
    "- A lookup table was used to map words to their vector embeddings, which were then updated during training to optimize the language modeling task.\n",
    "- The embedding captured semantic and syntactic relationships between words"
   ]
  },
  {
   "cell_type": "code",
   "execution_count": 1,
   "id": "be10238a-3c5d-4430-b639-e6234597694c",
   "metadata": {},
   "outputs": [],
   "source": [
    "import torch\n",
    "import torch.nn.functional as F\n",
    "import matplotlib.pyplot as plt\n",
    "%matplotlib inline"
   ]
  },
  {
   "cell_type": "code",
   "execution_count": 2,
   "id": "b83e6a3c-3699-44de-8fb8-0e588fc1f837",
   "metadata": {},
   "outputs": [
    {
     "data": {
      "text/plain": [
       "['emma', 'olivia', 'ava', 'isabella', 'sophia', 'charlotte', 'mia', 'amelia']"
      ]
     },
     "execution_count": 2,
     "metadata": {},
     "output_type": "execute_result"
    }
   ],
   "source": [
    "words = open('names.txt','r').read().splitlines()\n",
    "words[:8]"
   ]
  },
  {
   "cell_type": "code",
   "execution_count": 3,
   "id": "37defd35-fad8-4296-8067-9d0d03c2f060",
   "metadata": {},
   "outputs": [
    {
     "data": {
      "text/plain": [
       "32033"
      ]
     },
     "execution_count": 3,
     "metadata": {},
     "output_type": "execute_result"
    }
   ],
   "source": [
    "len(words)"
   ]
  },
  {
   "cell_type": "code",
   "execution_count": 4,
   "id": "7bd3d5dd-2b61-4b24-89fc-360e6f21bbfa",
   "metadata": {},
   "outputs": [
    {
     "name": "stdout",
     "output_type": "stream",
     "text": [
      "{1: 'a', 2: 'b', 3: 'c', 4: 'd', 5: 'e', 6: 'f', 7: 'g', 8: 'h', 9: 'i', 10: 'j', 11: 'k', 12: 'l', 13: 'm', 14: 'n', 15: 'o', 16: 'p', 17: 'q', 18: 'r', 19: 's', 20: 't', 21: 'u', 22: 'v', 23: 'w', 24: 'x', 25: 'y', 26: 'z', 0: '.'}\n"
     ]
    }
   ],
   "source": [
    "# build the vocab and characters and mapping to/from integers\n",
    "chars = sorted(list(set(''.join(words))))\n",
    "stoi = {s:i+1 for i,s in enumerate(chars)}\n",
    "stoi['.'] = 0 \n",
    "itos = {i:s for s,i in stoi.items()}\n",
    "print(itos)"
   ]
  },
  {
   "cell_type": "code",
   "execution_count": 5,
   "id": "a21c9694-871b-45dc-8ce8-117889cb2059",
   "metadata": {},
   "outputs": [],
   "source": [
    "#build dataset \n",
    "# context length: how many characters do we take to predict next one\n",
    "block_size = 3\n",
    "X,Y = [],[]\n",
    "for w in words:\n",
    "    \n",
    "    # print(w)\n",
    "    context = [0]* block_size\n",
    "    for ch in w+'.':\n",
    "        ix = stoi[ch]\n",
    "        X.append(context)\n",
    "        Y.append(ix)\n",
    "        # print(''.join(itos[i] for i in context),'--->',itos[ix])\n",
    "        context = context[1:] + [ix] #crop and append\n",
    "X = torch.tensor(X)\n",
    "Y = torch.tensor(Y)"
   ]
  },
  {
   "cell_type": "code",
   "execution_count": 6,
   "id": "26460c1a-8f14-4452-a8ec-4b9c4c46611b",
   "metadata": {},
   "outputs": [
    {
     "data": {
      "text/plain": [
       "tensor([[ 0,  0,  0],\n",
       "        [ 0,  0,  5],\n",
       "        [ 0,  5, 13],\n",
       "        ...,\n",
       "        [26, 26, 25],\n",
       "        [26, 25, 26],\n",
       "        [25, 26, 24]])"
      ]
     },
     "execution_count": 6,
     "metadata": {},
     "output_type": "execute_result"
    }
   ],
   "source": [
    "X"
   ]
  },
  {
   "cell_type": "code",
   "execution_count": 7,
   "id": "2d33eaa6-d2c1-4969-a223-e87520997b5c",
   "metadata": {},
   "outputs": [
    {
     "data": {
      "text/plain": [
       "tensor([ 5, 13, 13,  ..., 26, 24,  0])"
      ]
     },
     "execution_count": 7,
     "metadata": {},
     "output_type": "execute_result"
    }
   ],
   "source": [
    "Y"
   ]
  },
  {
   "cell_type": "code",
   "execution_count": 8,
   "id": "9584b5d3-ae18-469f-8cfc-d725eb767aa2",
   "metadata": {},
   "outputs": [],
   "source": [
    "C = torch.randn([27,2])"
   ]
  },
  {
   "cell_type": "code",
   "execution_count": 9,
   "id": "8511b968-b911-4227-ade4-2db06fbd3bbc",
   "metadata": {},
   "outputs": [
    {
     "data": {
      "text/plain": [
       "tensor([[-1.7866,  0.1305],\n",
       "        [ 0.1683,  0.2344],\n",
       "        [-1.8929,  0.8892],\n",
       "        [ 0.6840, -1.6162],\n",
       "        [-0.2063,  0.7282],\n",
       "        [-0.5255, -0.0806],\n",
       "        [-1.3414, -1.1107],\n",
       "        [-0.9001, -1.1453],\n",
       "        [-0.9350,  0.4636],\n",
       "        [ 0.8970, -0.5300],\n",
       "        [-0.5611,  0.3223],\n",
       "        [-0.3955, -1.2427],\n",
       "        [-1.2488,  0.2700],\n",
       "        [-0.7684,  1.7736],\n",
       "        [-0.2292,  0.8823],\n",
       "        [-1.2940,  0.9140],\n",
       "        [ 0.6271,  1.1693],\n",
       "        [ 0.0494,  0.9846],\n",
       "        [ 1.6973, -0.9552],\n",
       "        [-0.8739,  0.4775],\n",
       "        [ 0.6162,  0.2121],\n",
       "        [-2.0247,  0.6038],\n",
       "        [ 0.0711,  0.2274],\n",
       "        [ 0.7214, -1.5115],\n",
       "        [ 0.9044, -0.6675],\n",
       "        [-0.3043,  1.6752],\n",
       "        [-0.9510, -1.2198]])"
      ]
     },
     "execution_count": 9,
     "metadata": {},
     "output_type": "execute_result"
    }
   ],
   "source": [
    "C"
   ]
  },
  {
   "cell_type": "code",
   "execution_count": 10,
   "id": "26c99058-b044-4f3c-976a-a0caa5ae4257",
   "metadata": {},
   "outputs": [
    {
     "data": {
      "text/plain": [
       "torch.Size([228146, 3, 2])"
      ]
     },
     "execution_count": 10,
     "metadata": {},
     "output_type": "execute_result"
    }
   ],
   "source": [
    "#Mapping the X character block (indices) to a 2D vector representation using the embedding lookup table.\n",
    "#hence no need one hot encoding,thus good for generalization\n",
    "embed = C[X]\n",
    "embed.shape\n"
   ]
  },
  {
   "cell_type": "code",
   "execution_count": 11,
   "id": "4b8a5039-b3ca-4d01-9303-413fc6228d13",
   "metadata": {},
   "outputs": [
    {
     "data": {
      "text/plain": [
       "torch.Size([228146, 3, 2])"
      ]
     },
     "execution_count": 11,
     "metadata": {},
     "output_type": "execute_result"
    }
   ],
   "source": [
    "W1 = torch.randn(6,100)\n",
    "b1 = torch.randn(100)\n",
    "embed.shape"
   ]
  },
  {
   "cell_type": "code",
   "execution_count": 12,
   "id": "a7fca2aa-90bd-465c-b8bd-b9142fcee654",
   "metadata": {},
   "outputs": [
    {
     "data": {
      "text/plain": [
       "tensor([[-1.7866,  0.1305, -1.7866,  0.1305, -1.7866,  0.1305],\n",
       "        [-1.7866,  0.1305, -1.7866,  0.1305, -0.5255, -0.0806],\n",
       "        [-1.7866,  0.1305, -0.5255, -0.0806, -0.7684,  1.7736],\n",
       "        ...,\n",
       "        [-0.9510, -1.2198, -0.9510, -1.2198, -0.3043,  1.6752],\n",
       "        [-0.9510, -1.2198, -0.3043,  1.6752, -0.9510, -1.2198],\n",
       "        [-0.3043,  1.6752, -0.9510, -1.2198,  0.9044, -0.6675]])"
      ]
     },
     "execution_count": 12,
     "metadata": {},
     "output_type": "execute_result"
    }
   ],
   "source": [
    "# to embed the input layer options\n",
    "torch.cat([embed[:,0,:],embed[:,1,:],embed[:,2,:]],1).shape\n",
    "torch.cat(torch.unbind(embed,dim=1),1).shape\n",
    "#best options is to use tensor.view as it rearrange feature for the tensor only\n",
    "# -1 or embed.shape[0]\n",
    "embed.view(-1,6)"
   ]
  },
  {
   "cell_type": "code",
   "execution_count": 13,
   "id": "c871c432-946d-46e2-9103-b8223d1596fe",
   "metadata": {},
   "outputs": [
    {
     "data": {
      "text/plain": [
       "torch.Size([228146, 100])"
      ]
     },
     "execution_count": 13,
     "metadata": {},
     "output_type": "execute_result"
    }
   ],
   "source": [
    "#hidden layer\n",
    "h = embed.view(-1,6) @ W1 + b1\n",
    "h.shape"
   ]
  },
  {
   "cell_type": "code",
   "execution_count": 14,
   "id": "6c81e54c-10db-4eef-90b3-d3bc7e14390f",
   "metadata": {},
   "outputs": [],
   "source": [
    "#output layer\n",
    "W2 = torch.randn(100,27)\n",
    "b2 = torch.randn(27)\n"
   ]
  },
  {
   "cell_type": "code",
   "execution_count": 15,
   "id": "f5d6f221-4214-45ed-ac23-c3312c1c2638",
   "metadata": {},
   "outputs": [
    {
     "data": {
      "text/plain": [
       "torch.Size([228146, 27])"
      ]
     },
     "execution_count": 15,
     "metadata": {},
     "output_type": "execute_result"
    }
   ],
   "source": [
    "logits = h @ W2 + b2\n",
    "logits.shape"
   ]
  },
  {
   "cell_type": "code",
   "execution_count": 16,
   "id": "7f60dc42-7d29-43df-a981-059a50f479e7",
   "metadata": {},
   "outputs": [],
   "source": [
    "counts = logits.exp()\n",
    "prob = counts/counts.sum(dim=1,keepdim=True)"
   ]
  },
  {
   "cell_type": "code",
   "execution_count": 17,
   "id": "235195b3-dc8f-48db-aac2-fb99e58202a4",
   "metadata": {},
   "outputs": [
    {
     "data": {
      "text/plain": [
       "torch.Size([228146, 27])"
      ]
     },
     "execution_count": 17,
     "metadata": {},
     "output_type": "execute_result"
    }
   ],
   "source": [
    "prob.shape"
   ]
  },
  {
   "cell_type": "code",
   "execution_count": 18,
   "id": "24451e4f-89d9-4f7e-a0a1-953b4ea8bed1",
   "metadata": {},
   "outputs": [
    {
     "data": {
      "text/plain": [
       "tensor([ 5, 13, 13,  ..., 26, 24,  0])"
      ]
     },
     "execution_count": 18,
     "metadata": {},
     "output_type": "execute_result"
    }
   ],
   "source": [
    "torch.arange(16)\n",
    "Y"
   ]
  },
  {
   "cell_type": "code",
   "execution_count": 19,
   "id": "453220b3-2fca-4af5-92a5-9ce0aff09744",
   "metadata": {},
   "outputs": [],
   "source": [
    "# loss = - prob[torch.arange(16),Y].log().mean()\n",
    "# loss"
   ]
  },
  {
   "cell_type": "markdown",
   "id": "17ff692f-468b-4ee6-b0d9-41c67fee404e",
   "metadata": {},
   "source": [
    "# Build dataset and splitting"
   ]
  },
  {
   "cell_type": "code",
   "execution_count": 20,
   "id": "c62ae32f-710b-43bb-a8e4-3ca67238a566",
   "metadata": {},
   "outputs": [
    {
     "name": "stdout",
     "output_type": "stream",
     "text": [
      "{1: 'a', 2: 'b', 3: 'c', 4: 'd', 5: 'e', 6: 'f', 7: 'g', 8: 'h', 9: 'i', 10: 'j', 11: 'k', 12: 'l', 13: 'm', 14: 'n', 15: 'o', 16: 'p', 17: 'q', 18: 'r', 19: 's', 20: 't', 21: 'u', 22: 'v', 23: 'w', 24: 'x', 25: 'y', 26: 'z', 0: '.'}\n",
      "27\n"
     ]
    }
   ],
   "source": [
    "# build the vocab and characters and mapping to/from integers\n",
    "chars = sorted(list(set(''.join(words))))\n",
    "stoi = {s:i+1 for i,s in enumerate(chars)}\n",
    "stoi['.'] = 0 \n",
    "itos = {i:s for s,i in stoi.items()}\n",
    "vocab_size = len(itos)\n",
    "\n",
    "print(itos)\n",
    "print(vocab_size)"
   ]
  },
  {
   "cell_type": "code",
   "execution_count": 21,
   "id": "6b46a3ee-4417-4128-bd00-c862d597b99e",
   "metadata": {},
   "outputs": [
    {
     "name": "stdout",
     "output_type": "stream",
     "text": [
      "torch.Size([182625, 3]) torch.Size([182625])\n",
      "torch.Size([22655, 3]) torch.Size([22655])\n",
      "torch.Size([22866, 3]) torch.Size([22866])\n"
     ]
    }
   ],
   "source": [
    "block_size = 3 #context length: how many character do we take to predict the next one ?\n",
    "\n",
    "def build_dataset(words):\n",
    "# context length: how many characters do we take to predict next one\n",
    "    X,Y = [],[]\n",
    "    for w in words:\n",
    "        \n",
    "        # print(w)\n",
    "        context = [0]* block_size\n",
    "        for ch in w+'.':\n",
    "            ix = stoi[ch]\n",
    "            X.append(context)\n",
    "            Y.append(ix)\n",
    "            # print(''.join(itos[i] for i in context),'--->',itos[ix])\n",
    "            context = context[1:] + [ix] #crop and append\n",
    "    X = torch.tensor(X)\n",
    "    Y = torch.tensor(Y)\n",
    "    print(X.shape,Y.shape)\n",
    "    return X,Y\n",
    "\n",
    "import random\n",
    "random.seed(42)\n",
    "random.shuffle(words)\n",
    "n1 = int(0.8*len(words))\n",
    "n2 = int(0.9*len(words))\n",
    "Xtr,Ytr = build_dataset(words[:n1])\n",
    "Xval,Yval = build_dataset(words[n1:n2])\n",
    "Xtest,Ytest = build_dataset(words[n2:])\n"
   ]
  },
  {
   "cell_type": "markdown",
   "id": "f8c70ff5-3050-461d-a6b5-5adddb369c2f",
   "metadata": {},
   "source": [
    "# Steps to optimize the loss (thoughts process/took steps)\n",
    "### For lr=-0.1, hidden_layer = 100,vector_embedding(C)=2\n",
    " - the loss converges at about 2.58 after training alots of time.\n",
    " - Introduced decay lr = -0.01 after training some times to decrease the loss decreased at around 2.29\n",
    " - Still model is Underfitting(might be due to model being to simple bump hidden layer to 300)\n",
    "### For lr = -0.1,hidden_layer=300,vector_embedding(C)=2\n",
    " - the loss converges at about 2.41 after training 8*10000 times.\n",
    " - Introduced decay lr = -0.01 after training some times to decrease the loss decreased at around 2.24\n",
    " - Loss is not decreasing,still model is Underfitting(might be due to vector embedding in 2d creating a bottle neck)\n",
    "### For lr = -0.1,hidden_layer=200,vector_embedding(C)=10\n",
    "- after training 8*10000 times loss converges at about 2.22\n",
    "- Introduced decay lr = -0.01 after training some times to decrease the loss decreased at around 2.06\n",
    "<<<<<<< local\n",
    "- which is much better parameters than previous hyperparameters\n",
    "=======\n",
    "- which is much better parameters than previous hyperparameters\n",
    "\n",
    "### Implemented BatchNormalization for further bettter performance\n",
    ">>>>>>> remote"
   ]
  },
  {
   "cell_type": "code",
   "execution_count": 22,
   "id": "a4ce7a18-9e9c-45d2-93ee-df23b3cda9eb",
   "metadata": {},
   "outputs": [
    {
     "name": "stdout",
     "output_type": "stream",
     "text": [
      "total number of parameters:  12097\n"
     ]
    }
   ],
   "source": [
    "# writing all about neural net layer here\n",
    "n_embd = 10 #the dimensionality of the character embedding vectors\n",
    "n_hidden = 200 #the number of neurons in the hidden layer of the MLP\n",
    "\n",
    "g = torch.Generator().manual_seed(2147483647) #for reproducibility\n",
    "#C is a lookup table for vector embedding the words\n",
    "C = torch.randn(vocab_size,n_embd,generator=g)\n",
    "\n",
    "#input layer x hidden layer\n",
    "#according to kaiming paper for proper initialization of weights   # gain/(fan_in)**0.5    \n",
    "W1 = torch.randn(block_size*n_embd,n_hidden,generator=g) *        (5/3)/((block_size*n_embd)**0.5)\n",
    "\n",
    "#b1 is negated in due to batchnorm as batch norm have its own bias thus commented\n",
    "# b1 = torch.randn(n_hidden,generator=g) * 0\n",
    "\n",
    "#hidden layer x output layer\n",
    "W2 = torch.randn(n_hidden,vocab_size,generator=g) * 0.01\n",
    "b2 = torch.randn(vocab_size,generator=g) * 0 \n",
    "bngain = torch.ones((1,n_hidden))\n",
    "bnbias = torch.zeros((1,n_hidden))\n",
    "\n",
    "bnmean_running = torch.zeros((1,n_hidden))\n",
    "bnstd_running = torch.ones((1,n_hidden))\n",
    "\n",
    "parameters = [C,W1,W2,b2,bngain,bnbias]\n",
    "print('total number of parameters: ',sum(p.nelement() for p in parameters)) #number of parameters\n",
    "\n",
    "for p in parameters:\n",
    "    p.requires_grad = True"
   ]
  },
  {
   "cell_type": "code",
   "execution_count": 23,
   "id": "c0ea0adb-6fff-4a85-ab14-105a14291ed3",
   "metadata": {},
   "outputs": [
    {
     "name": "stdout",
     "output_type": "stream",
     "text": [
      "228146\n"
     ]
    }
   ],
   "source": [
    "sum(p.nelement() for p in parameters)\n",
    "print(X.shape[0])\n"
   ]
  },
  {
   "cell_type": "code",
   "execution_count": 24,
   "id": "61802aed-2db9-4c5a-9424-9a8544e6cacb",
   "metadata": {},
   "outputs": [],
   "source": [
    "# selecting learning rate\n",
    "# lre = torch.linspace(-3,0,1000)\n",
    "# lre = 10 **lre \n"
   ]
  },
  {
   "cell_type": "markdown",
   "id": "33321915-7e4d-4c6b-8dad-a117db09b9da",
   "metadata": {},
   "source": [
    "## Mini Batch size Training\n",
    "- 32 batchsize of data are being processed at a time more efficient and faster for processing the dataset.\n",
    "- as processing all the dataset(very large) is inefficient and memory intensive not worth it. "
   ]
  },
  {
   "cell_type": "code",
   "execution_count": 38,
   "id": "10e3a3df-f25f-4833-8a80-8eb2ccfbd24e",
   "metadata": {},
   "outputs": [
    {
     "name": "stdout",
     "output_type": "stream",
     "text": [
      "      0/ 200000: loss = 1.9493\n",
      "  10000/ 200000: loss = 2.5851\n",
      "  20000/ 200000: loss = 1.9095\n",
      "  30000/ 200000: loss = 2.3090\n",
      "  40000/ 200000: loss = 2.0938\n",
      "  50000/ 200000: loss = 2.2836\n",
      "  60000/ 200000: loss = 2.3761\n",
      "  70000/ 200000: loss = 2.1950\n",
      "  80000/ 200000: loss = 2.2936\n",
      "  90000/ 200000: loss = 2.0769\n",
      " 100000/ 200000: loss = 2.3722\n",
      " 110000/ 200000: loss = 1.8325\n",
      " 120000/ 200000: loss = 2.2619\n",
      " 130000/ 200000: loss = 2.0563\n",
      " 140000/ 200000: loss = 2.0832\n",
      " 150000/ 200000: loss = 2.1425\n",
      " 160000/ 200000: loss = 1.8463\n",
      " 170000/ 200000: loss = 2.0628\n",
      " 180000/ 200000: loss = 2.2631\n",
      " 190000/ 200000: loss = 2.2419\n"
     ]
    }
   ],
   "source": [
    "track_loss = []\n",
    "track_epoch = []\n",
    "max_steps = 200000\n",
    "batch_size=32\n",
    "for epoch in range(max_steps):\n",
    "    #mini batch construct processing 32 batchsize of dataset a time more efficient\n",
    "    ix = torch.randint(0,Xtr.shape[0],(batch_size,),generator=g)\n",
    "    Xb,Yb = Xtr[ix],Ytr[ix] #batch X,Y\n",
    "    \n",
    "    #forward pass\n",
    "    embed = C[Xb] #embed the characters into vectors\n",
    "    embcat = embed.view(-1,block_size*n_embd) #cocatenate the vectors\n",
    "    \n",
    "    #tanh on hidden layer on paper\n",
    "    hpreact = embcat @ W1 #+ b1 #hidden layer pre-activation\n",
    "    \n",
    "    #batch norm layer\n",
    "    # ======================\n",
    "    bnmeani = hpreact.mean(0,keepdim=True)\n",
    "    bnstdi = hpreact.std(0,keepdim=True)\n",
    "    hpreact = bngain * (hpreact - bnmeani)/bnstdi + bnbias\n",
    "    with torch.no_grad():\n",
    "        bnmean_running = 0.999 * bnmean_running + bnmeani * 0.001\n",
    "        bnstd_running = 0.999 * bnstd_running + bnstdi * 0.001\n",
    "    # ========================\n",
    "    \n",
    "    # non linearity \n",
    "    h = torch.tanh(hpreact) #hidden layer\n",
    "    logits = h @ W2 + b2 #output layer\n",
    "    loss = F.cross_entropy(logits,Yb) #loss function\n",
    "     \n",
    "    # pytorch own cross entropy function\n",
    "    # counts = logits.exp()\n",
    "    # prob = counts / counts.sum(1,keepdims=True)\n",
    "    # loss =- prob[torch.arange(16),Y].log().mean()\n",
    "\n",
    "    \n",
    "    #backward pass\n",
    "    #need to reset gradient for every steps due to different position of loss\n",
    "    for p in parameters:\n",
    "        p.grad = None\n",
    "    loss.backward()\n",
    "        \n",
    "    #step learning rate decay\n",
    "    lr = 0.1 if epoch<100000 else 0.01\n",
    "    for p in parameters:\n",
    "        p.data+= -lr * p.grad\n",
    "\n",
    "    #track stats\n",
    "    if epoch % 10000 == 0:\n",
    "        print(f'{epoch:7d}/{max_steps:7d}: loss = {loss.item():.4f}')\n",
    "        track_epoch.append(epoch)\n",
    "    # track_lre.append(lre[epoch])\n",
    "    track_loss.append(loss.log10().item())\n",
    "\n"
   ]
  },
  {
   "cell_type": "code",
   "execution_count": 39,
   "id": "48d0a491-989b-477c-b3d8-3a4c7176ae1e",
   "metadata": {},
   "outputs": [
    {
     "data": {
      "image/png": "[encoded data removed]",
      "text/plain": [
       "<Figure size 640x480 with 1 Axes>"
      ]
     },
     "metadata": {},
     "output_type": "display_data"
    }
   ],
   "source": [
    "plt.plot(track_loss)\n",
    "# plt.plot(track_epoch,track_loss)\n",
    "plt.show()\n"
   ]
  },
  {
   "cell_type": "code",
   "execution_count": 40,
   "id": "6ea68112-8ae4-4b06-a2b8-8578579bbc53",
   "metadata": {},
   "outputs": [],
   "source": [
    "#calibrate the batch norm at the end of training\n",
    "# instead of this bnmean_running and bnstd_running is maitained over the training set so that we dont need to calulate\n",
    "# batch mean and batch std when inferencing\n",
    "# with torch.no_grad():\n",
    "    # emb = C[Xtr]\n",
    "    # embcat = emb.view(emb.shape[0],-1)\n",
    "    # hpreact = embcat @ W1 + b1\n",
    "    #measure mean/std over the entire training set\n",
    "    # bnmean = hpreact.mean(0,keepdim=True)\n",
    "    # bnstd = hpreact.std(0,keepdim=True)\n"
   ]
  },
  {
   "cell_type": "code",
   "execution_count": 41,
   "id": "64f9f4d4-fd00-4e22-87d3-32dd4f525614",
   "metadata": {},
   "outputs": [
    {
     "name": "stdout",
     "output_type": "stream",
     "text": [
      "train 2.05173659324646\n",
      "val 2.099350929260254\n"
     ]
    }
   ],
   "source": [
    "@torch.no_grad() # this decorator disables gradient tracking\n",
    "def split_loss(split):\n",
    "  x,y = {\n",
    "    'train': (Xtr, Ytr),\n",
    "    'val': (Xval, Yval),\n",
    "    'test': (Xtest, Ytest),\n",
    "  }[split]\n",
    "  emb = C[x] # (N, block_size, n_embd)\n",
    "  embcat = emb.view(emb.shape[0], -1) # concat into (N, block_size * n_embd)\n",
    "  hpreact = embcat @ W1 # + b1\n",
    "  #hpreact = bngain * (hpreact - hpreact.mean(0, keepdim=True)) / hpreact.std(0, keepdim=True) + bnbias\n",
    "  hpreact = bngain * (hpreact - bnmean_running) / bnstd_running + bnbias\n",
    "  h = torch.tanh(hpreact) # (N, n_hidden)\n",
    "  logits = h @ W2 + b2 # (N, vocab_size)\n",
    "  loss = F.cross_entropy(logits, y)\n",
    "  print(split, loss.item())\n",
    "\n",
    "split_loss('train')\n",
    "split_loss('val')"
   ]
  },
  {
   "cell_type": "code",
   "execution_count": 51,
   "id": "ddf3f189-2318-448e-9c13-0de3f88df6e7",
   "metadata": {},
   "outputs": [
    {
     "name": "stdout",
     "output_type": "stream",
     "text": [
      "mora.\n",
      "kmyah.\n",
      "see.\n",
      "mad.\n",
      "ryla.\n",
      "reisha.\n",
      "ejdrie.\n",
      "cadered.\n",
      "elin.\n",
      "shylopaleigh.\n",
      "vananaraelyzion.\n",
      "kamin.\n",
      "shah.\n",
      "ridhimiel.\n",
      "kindreelynn.\n",
      "novana.\n",
      "ubert.\n",
      "dariyah.\n",
      "faeha.\n",
      "kayshayklyla.\n"
     ]
    }
   ],
   "source": [
    "# sample from the model\n",
    "g = torch.Generator().manual_seed(2147483647 + 10)\n",
    "\n",
    "for _ in range(20):\n",
    "    \n",
    "    out = []\n",
    "    context = [0] * block_size \n",
    "    while True:\n",
    "      emb = C[torch.tensor([context])] # (1,block_size,d)\n",
    "      embcat = emb.view(emb.shape[0], -1) # concat into (N, block_size * n_embd)\n",
    "      hpreact = embcat @ W1 # + b1\n",
    "      hpreact = bngain * (hpreact - bnmean_running) / bnstd_running + bnbias\n",
    "      h = torch.tanh(hpreact)\n",
    "      logits = h @ W2 + b2\n",
    "      probs = F.softmax(logits, dim=1)\n",
    "      ix = torch.multinomial(probs[0], num_samples=1, generator=g).item()\n",
    "      context = context[1:] + [ix]\n",
    "      out.append(ix)\n",
    "      if ix == 0:\n",
    "        break\n",
    "    \n",
    "    print(''.join(itos[i] for i in out))\n"
   ]
  },
  {
   "cell_type": "code",
   "execution_count": 35,
   "id": "91a73639-ac43-40e1-a4a9-7cbac4b90a74",
   "metadata": {},
   "outputs": [
    {
     "ename": "RuntimeError",
     "evalue": "The size of tensor a (200) must match the size of tensor b (100) at non-singleton dimension 1",
     "output_type": "error",
     "traceback": [
      "\u001b[0;31m---------------------------------------------------------------------------\u001b[0m",
      "\u001b[0;31mRuntimeError\u001b[0m                              Traceback (most recent call last)",
      "Cell \u001b[0;32mIn[35], line 2\u001b[0m\n\u001b[1;32m      1\u001b[0m embed \u001b[38;5;241m=\u001b[39m C[Xtr]\n\u001b[0;32m----> 2\u001b[0m h \u001b[38;5;241m=\u001b[39m torch\u001b[38;5;241m.\u001b[39mtanh(embed\u001b[38;5;241m.\u001b[39mview(\u001b[38;5;241m-\u001b[39m\u001b[38;5;241m1\u001b[39m,\u001b[38;5;241m30\u001b[39m) \u001b[38;5;241m@\u001b[39m W1 \u001b[38;5;241m+\u001b[39m b1)\n\u001b[1;32m      3\u001b[0m logits \u001b[38;5;241m=\u001b[39m h \u001b[38;5;241m@\u001b[39m W2 \u001b[38;5;241m+\u001b[39m b2\n\u001b[1;32m      4\u001b[0m loss \u001b[38;5;241m=\u001b[39m F\u001b[38;5;241m.\u001b[39mcross_entropy(logits,Ytr)\n",
      "\u001b[0;31mRuntimeError\u001b[0m: The size of tensor a (200) must match the size of tensor b (100) at non-singleton dimension 1"
     ]
    }
   ],
   "source": [
    "embed = C[Xtr]\n",
    "h = torch.tanh(embed.view(-1,) @ W1 + b1)\n",
    "logits = h @ W2 + b2\n",
    "loss = F.cross_entropy(logits,Ytr)\n",
    "loss"
   ]
  },
  {
   "cell_type": "code",
   "execution_count": 36,
   "id": "70286fbf-cd77-4a73-93ae-b05fcd5ce9db",
   "metadata": {},
   "outputs": [
    {
     "ename": "RuntimeError",
     "evalue": "The size of tensor a (200) must match the size of tensor b (100) at non-singleton dimension 1",
     "output_type": "error",
     "traceback": [
      "\u001b[0;31m---------------------------------------------------------------------------\u001b[0m",
      "\u001b[0;31mRuntimeError\u001b[0m                              Traceback (most recent call last)",
      "Cell \u001b[0;32mIn[36], line 2\u001b[0m\n\u001b[1;32m      1\u001b[0m embed \u001b[38;5;241m=\u001b[39m C[Xval]\n\u001b[0;32m----> 2\u001b[0m h \u001b[38;5;241m=\u001b[39m torch\u001b[38;5;241m.\u001b[39mtanh(embed\u001b[38;5;241m.\u001b[39mview(\u001b[38;5;241m-\u001b[39m\u001b[38;5;241m1\u001b[39m,\u001b[38;5;241m30\u001b[39m) \u001b[38;5;241m@\u001b[39m W1 \u001b[38;5;241m+\u001b[39m b1)\n\u001b[1;32m      3\u001b[0m logits \u001b[38;5;241m=\u001b[39m h \u001b[38;5;241m@\u001b[39m W2 \u001b[38;5;241m+\u001b[39m b2\n\u001b[1;32m      4\u001b[0m loss \u001b[38;5;241m=\u001b[39m F\u001b[38;5;241m.\u001b[39mcross_entropy(logits,Yval)\n",
      "\u001b[0;31mRuntimeError\u001b[0m: The size of tensor a (200) must match the size of tensor b (100) at non-singleton dimension 1"
     ]
    }
   ],
   "source": [
    "embed = C[Xval]\n",
    "h = torch.tanh(embed.view(-1,30) @ W1 + b1)\n",
    "logits = h @ W2 + b2\n",
    "loss = F.cross_entropy(logits,Yval)\n",
    "loss"
   ]
  },
  {
   "cell_type": "code",
   "execution_count": null,
   "id": "cf48b472-d50c-4999-b8fa-c9cddc23d7cd",
   "metadata": {},
   "outputs": [],
   "source": [
    "embed = C[Xtest]\n",
    "h = torch.tanh(embed.view(-1,30) @ W1 + b1)\n",
    "logits = h @ W2 + b2\n",
    "loss = F.cross_entropy(logits,Ytest)\n",
    "loss"
   ]
  },
  {
   "cell_type": "code",
   "execution_count": 261,
   "id": "6f8cb5f9-079a-43be-a0a7-2b9b40c0b94e",
   "metadata": {},
   "outputs": [
    {
     "data": {
      "image/png": "[encoded data removed]",
      "text/plain": [
       "<Figure size 800x800 with 1 Axes>"
      ]
     },
     "metadata": {},
     "output_type": "display_data"
    }
   ],
   "source": [
    "# visualize dimensions 0 and 1 of the embedding matrix C for all characters\n",
    "# this visualize only works when C is 2d\n",
    "\n",
    "plt.figure(figsize=(8,8))\n",
    "plt.scatter(C[:,0].data, C[:,1].data, s=200)\n",
    "for i in range(C.shape[0]):\n",
    "    plt.text(C[i,0].item(), C[i,1].item(), itos[i], ha=\"center\", va=\"center\", color='white')\n",
    "plt.grid('minor')\n",
    "plt.show()"
   ]
  },
  {
   "cell_type": "markdown",
   "id": "3b790c67-2d17-4857-a759-8cade34403f5",
   "metadata": {},
   "source": [
    "# Interpretation of above graph\n",
    "- Some commonly repeated words are cluster together in 2d vector embedding from lookup table C\n",
    "- eg. a,e,i,o,u are vowel and closely related hence scatter together, '.' is special character so it is very further away from all others characters "
   ]
  }
 ],
 "metadata": {
  "kernelspec": {
   "display_name": "Python 3 (ipykernel)",
   "language": "python",
   "name": "python3"
  },
  "language_info": {
   "codemirror_mode": {
    "name": "ipython",
    "version": 3
   },
   "file_extension": ".py",
   "mimetype": "text/x-python",
   "name": "python",
   "nbconvert_exporter": "python",
   "pygments_lexer": "ipython3",
   "version": "3.12.7"
  }
 },
 "nbformat": 4,
 "nbformat_minor": 5
}
